{
 "cells": [
  {
   "cell_type": "markdown",
   "id": "36a96720",
   "metadata": {},
   "source": [
    "# Funciones en Python\n"
   ]
  },
  {
   "cell_type": "code",
   "execution_count": 5,
   "id": "c3e8a6b6",
   "metadata": {},
   "outputs": [],
   "source": [
    "import math\n",
    "\n"
   ]
  },
  {
   "cell_type": "code",
   "execution_count": 7,
   "id": "ffe09ec6",
   "metadata": {},
   "outputs": [
    {
     "data": {
      "text/plain": [
       "8"
      ]
     },
     "execution_count": 7,
     "metadata": {},
     "output_type": "execute_result"
    }
   ],
   "source": [
    "def suma(x, y):\n",
    "    return x+y\n",
    "suma(5,3)"
   ]
  },
  {
   "cell_type": "code",
   "execution_count": 10,
   "id": "6588f880",
   "metadata": {},
   "outputs": [],
   "source": [
    "class Operaciones(object):\n",
    "    def suma(self, x, y):\n",
    "        self.resultado = x+y\n",
    "        return self.resultado"
   ]
  },
  {
   "cell_type": "code",
   "execution_count": 12,
   "id": "f4c36002",
   "metadata": {},
   "outputs": [
    {
     "data": {
      "text/plain": [
       "5"
      ]
     },
     "execution_count": 12,
     "metadata": {},
     "output_type": "execute_result"
    }
   ],
   "source": [
    "operInstance = Operaciones()\n",
    "operInstance.suma(2,3)"
   ]
  },
  {
   "cell_type": "code",
   "execution_count": 22,
   "id": "bc63321b",
   "metadata": {},
   "outputs": [
    {
     "name": "stdout",
     "output_type": "stream",
     "text": [
      "Introduce tu nombre: \n",
      "Hola, Estoy programando!\n"
     ]
    }
   ],
   "source": [
    "def saludar():\n",
    "    name = str(input(\"Introduce tu nombre: \"))\n",
    "    if name:\n",
    "        print(\"Hola \"+name)\n",
    "    else:\n",
    "        print(\"Hola, Estoy programando!\")\n",
    "    return\n",
    "\n",
    "saludar()"
   ]
  },
  {
   "cell_type": "code",
   "execution_count": 24,
   "id": "e030d6d4",
   "metadata": {},
   "outputs": [],
   "source": [
    "#para retornar una colección de datos usar parentésis\n",
    "def sumaresta(x,y):\n",
    "    suma = x + y \n",
    "    resta = x - y\n",
    "    return (suma, resta)\n",
    "\n"
   ]
  },
  {
   "cell_type": "code",
   "execution_count": 26,
   "id": "1defc2e5",
   "metadata": {},
   "outputs": [
    {
     "data": {
      "text/plain": [
       "(5, -1)"
      ]
     },
     "execution_count": 26,
     "metadata": {},
     "output_type": "execute_result"
    }
   ],
   "source": [
    "sumaresta(2,3)"
   ]
  },
  {
   "cell_type": "markdown",
   "id": "08c39271",
   "metadata": {},
   "source": [
    "# Argumentos variables lambdas"
   ]
  },
  {
   "cell_type": "code",
   "execution_count": 27,
   "id": "7e80f665",
   "metadata": {},
   "outputs": [],
   "source": [
    "# * args , argumento de longitud variable , \"puede ser de cualquier longitud\" , \n",
    "#sum \"suma todos los datos contenidos o que formen parte del vector \"\n",
    "\n",
    "def suma(*args):\n",
    "    return sum(args)"
   ]
  },
  {
   "cell_type": "code",
   "execution_count": 28,
   "id": "524ccaee",
   "metadata": {},
   "outputs": [
    {
     "data": {
      "text/plain": [
       "6"
      ]
     },
     "execution_count": 28,
     "metadata": {},
     "output_type": "execute_result"
    }
   ],
   "source": [
    "suma(1,2,3)"
   ]
  },
  {
   "cell_type": "code",
   "execution_count": 36,
   "id": "4d94c05f",
   "metadata": {},
   "outputs": [],
   "source": [
    "def sumacuadrados(*datos):\n",
    "    total = 0\n",
    "    for d in datos:\n",
    "        total += d**2\n",
    "        #total = total + d**2\n",
    "    return total"
   ]
  },
  {
   "cell_type": "code",
   "execution_count": 39,
   "id": "88786da7",
   "metadata": {},
   "outputs": [
    {
     "data": {
      "text/plain": [
       "14"
      ]
     },
     "execution_count": 39,
     "metadata": {},
     "output_type": "execute_result"
    }
   ],
   "source": [
    "sumacuadrados(1,2,3)"
   ]
  },
  {
   "cell_type": "code",
   "execution_count": 42,
   "id": "36c9a0d1",
   "metadata": {},
   "outputs": [
    {
     "data": {
      "text/plain": [
       "262.9489"
      ]
     },
     "execution_count": 42,
     "metadata": {},
     "output_type": "execute_result"
    }
   ],
   "source": [
    "sumacuadrados(2.5, 3.6, 8.9, -2, 12.67)"
   ]
  },
  {
   "cell_type": "markdown",
   "id": "73d20d07",
   "metadata": {},
   "source": [
    "# Función anónimas "
   ]
  },
  {
   "cell_type": "code",
   "execution_count": 48,
   "id": "9480d04f",
   "metadata": {},
   "outputs": [],
   "source": [
    "cuadrado = lambda x: x**2 "
   ]
  },
  {
   "cell_type": "code",
   "execution_count": null,
   "id": "1d926765",
   "metadata": {},
   "outputs": [],
   "source": []
  },
  {
   "cell_type": "code",
   "execution_count": null,
   "id": "b1bfc3a9",
   "metadata": {},
   "outputs": [],
   "source": []
  },
  {
   "cell_type": "code",
   "execution_count": 44,
   "id": "213a494a",
   "metadata": {},
   "outputs": [
    {
     "data": {
      "text/plain": [
       "8"
      ]
     },
     "execution_count": 44,
     "metadata": {},
     "output_type": "execute_result"
    }
   ],
   "source": [
    "doble(4)"
   ]
  },
  {
   "cell_type": "code",
   "execution_count": 49,
   "id": "7c6d7956",
   "metadata": {},
   "outputs": [
    {
     "data": {
      "text/plain": [
       "25"
      ]
     },
     "execution_count": 49,
     "metadata": {},
     "output_type": "execute_result"
    }
   ],
   "source": [
    "cuadrado(5)"
   ]
  },
  {
   "cell_type": "code",
   "execution_count": 51,
   "id": "af3078ac",
   "metadata": {},
   "outputs": [],
   "source": [
    "suma = lambda x,y : x+y "
   ]
  },
  {
   "cell_type": "code",
   "execution_count": 52,
   "id": "89fcaf0e",
   "metadata": {},
   "outputs": [
    {
     "data": {
      "text/plain": [
       "6"
      ]
     },
     "execution_count": 52,
     "metadata": {},
     "output_type": "execute_result"
    }
   ],
   "source": [
    "suma(4,2)"
   ]
  },
  {
   "cell_type": "code",
   "execution_count": 53,
   "id": "d6c6bfec",
   "metadata": {},
   "outputs": [],
   "source": [
    "from functools import reduce"
   ]
  },
  {
   "cell_type": "code",
   "execution_count": 54,
   "id": "4dec8de9",
   "metadata": {},
   "outputs": [],
   "source": [
    "# Vectores de datos \n",
    "data = [1,2,3,4,5,6,7,8,9,10]\n"
   ]
  },
  {
   "cell_type": "code",
   "execution_count": 56,
   "id": "78c0fc9f",
   "metadata": {},
   "outputs": [],
   "source": [
    "#Filtrar los datos multiplicados * dos > que ocho \n",
    "filtered_data = list(filter(lambda x:(x*2>8), data))"
   ]
  },
  {
   "cell_type": "code",
   "execution_count": 57,
   "id": "927f2211",
   "metadata": {},
   "outputs": [
    {
     "data": {
      "text/plain": [
       "[5, 6, 7, 8, 9, 10]"
      ]
     },
     "execution_count": 57,
     "metadata": {},
     "output_type": "execute_result"
    }
   ],
   "source": [
    "filtered_data"
   ]
  },
  {
   "cell_type": "code",
   "execution_count": 60,
   "id": "1e97e3a3",
   "metadata": {},
   "outputs": [],
   "source": [
    "mapped_data = list(map(lambda x:x*2, data))"
   ]
  },
  {
   "cell_type": "code",
   "execution_count": 61,
   "id": "1b6bc9f5",
   "metadata": {},
   "outputs": [
    {
     "data": {
      "text/plain": [
       "[2, 4, 6, 8, 10, 12, 14, 16, 18, 20]"
      ]
     },
     "execution_count": 61,
     "metadata": {},
     "output_type": "execute_result"
    }
   ],
   "source": [
    "mapped_data"
   ]
  },
  {
   "cell_type": "code",
   "execution_count": 64,
   "id": "5e52d6d5",
   "metadata": {},
   "outputs": [],
   "source": [
    "reduced_data = reduce(lambda x, y : x+y, data)"
   ]
  },
  {
   "cell_type": "code",
   "execution_count": 65,
   "id": "190fb548",
   "metadata": {},
   "outputs": [
    {
     "data": {
      "text/plain": [
       "55"
      ]
     },
     "execution_count": 65,
     "metadata": {},
     "output_type": "execute_result"
    }
   ],
   "source": [
    "reduced_data"
   ]
  }
 ],
 "metadata": {
  "kernelspec": {
   "display_name": "Python 3",
   "language": "python",
   "name": "python3"
  },
  "language_info": {
   "codemirror_mode": {
    "name": "ipython",
    "version": 3
   },
   "file_extension": ".py",
   "mimetype": "text/x-python",
   "name": "python",
   "nbconvert_exporter": "python",
   "pygments_lexer": "ipython3",
   "version": "3.8.8"
  }
 },
 "nbformat": 4,
 "nbformat_minor": 5
}
