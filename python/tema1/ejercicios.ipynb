{
 "cells": [
  {
   "cell_type": "markdown",
   "id": "ec775f54",
   "metadata": {},
   "source": [
    "# Ejercicio uno"
   ]
  },
  {
   "cell_type": "code",
   "execution_count": 27,
   "id": "13125ef1",
   "metadata": {},
   "outputs": [
    {
     "name": "stdout",
     "output_type": "stream",
     "text": [
      "Escribe un número real:-95\n",
      "El número es negativo\n"
     ]
    }
   ],
   "source": [
    "numero_real = int(input(\"Escribe un número real:\"))\n",
    "\n",
    "if numero_real >=0:\n",
    "    print(\"El número es positivo\")\n",
    "else:\n",
    "    print(\"El número es negativo\")\n",
    "    \n"
   ]
  },
  {
   "cell_type": "markdown",
   "id": "ffbf6dc0",
   "metadata": {},
   "source": [
    "# Ejercicio dos\n"
   ]
  },
  {
   "cell_type": "code",
   "execution_count": 3,
   "id": "59e17747",
   "metadata": {},
   "outputs": [
    {
     "name": "stdout",
     "output_type": "stream",
     "text": [
      "Escribe un número real:6\n",
      "has escrito un número fuera de rango\n"
     ]
    }
   ],
   "source": [
    "x = int(input(\"Escribe un número real:\"))\n",
    "\n",
    "if x >= -5 and x <= 5:\n",
    "    print(\"has escrito un número dentro de rango\")\n",
    "else:\n",
    "    \n",
    "    print(\"has escrito un número fuera de rango\")\n",
    "\n",
    "    "
   ]
  },
  {
   "cell_type": "markdown",
   "id": "ea02b1c2",
   "metadata": {},
   "source": [
    "# Ejercicio tres"
   ]
  },
  {
   "cell_type": "code",
   "execution_count": 2,
   "id": "2e4da51d",
   "metadata": {},
   "outputs": [
    {
     "name": "stdout",
     "output_type": "stream",
     "text": [
      "El punto se encuentra en el cuarto cuadrante\n"
     ]
    }
   ],
   "source": [
    "x = 2\n",
    "\n",
    "y = -4\n",
    "\n",
    "if x > 0 and  y > 0:\n",
    "    print(\"El punto se encuentra en el primer cuadrante\")\n",
    "elif x > 0 and y < 0:\n",
    "    print(\"El punto se encuentra en el cuarto cuadrante\")\n",
    "elif x < 0 and y > 0:\n",
    "    print(\"El punto se encuentra en el segundo cuadrante\")\n",
    "elif x < 0 and y < 0:\n",
    "    print(\"El punto se encuentra en el tercer cuadrante\")\n",
    "else:\n",
    "    print(\"El punto se encuentra en el punto 0\")"
   ]
  },
  {
   "cell_type": "code",
   "execution_count": null,
   "id": "67926871",
   "metadata": {},
   "outputs": [],
   "source": []
  },
  {
   "cell_type": "code",
   "execution_count": null,
   "id": "8c17baec",
   "metadata": {},
   "outputs": [],
   "source": []
  },
  {
   "cell_type": "code",
   "execution_count": null,
   "id": "9b6d4d2f",
   "metadata": {},
   "outputs": [],
   "source": []
  },
  {
   "cell_type": "markdown",
   "id": "6c2f6ee0",
   "metadata": {},
   "source": [
    "# Ejercicio cuatro"
   ]
  },
  {
   "cell_type": "code",
   "execution_count": 2,
   "id": "1c98dcc0",
   "metadata": {},
   "outputs": [],
   "source": [
    "import math"
   ]
  },
  {
   "cell_type": "code",
   "execution_count": null,
   "id": "fa40ab10",
   "metadata": {},
   "outputs": [],
   "source": []
  },
  {
   "cell_type": "code",
   "execution_count": null,
   "id": "bced5363",
   "metadata": {},
   "outputs": [],
   "source": []
  },
  {
   "cell_type": "code",
   "execution_count": 3,
   "id": "6b1e8541",
   "metadata": {},
   "outputs": [
    {
     "data": {
      "text/plain": [
       "(6, 2.0)"
      ]
     },
     "execution_count": 3,
     "metadata": {},
     "output_type": "execute_result"
    }
   ],
   "source": [
    "def cociente_resto(x,y):\n",
    "    cocienteEntero = x//y\n",
    "    restoDivision = math.fmod(x,y)\n",
    "    return(cocienteEntero, restoDivision)\n",
    "\n",
    "cociente_resto(20,3)\n",
    "\n",
    "    "
   ]
  },
  {
   "cell_type": "markdown",
   "id": "9c787590",
   "metadata": {},
   "source": [
    "# Ejercicio cinco"
   ]
  },
  {
   "cell_type": "code",
   "execution_count": 17,
   "id": "a1015059",
   "metadata": {},
   "outputs": [
    {
     "name": "stdout",
     "output_type": "stream",
     "text": [
      "No es cuadrado perfecto\n"
     ]
    }
   ],
   "source": [
    "x = math.sqrt(24)\n",
    "x\n",
    "\n",
    "if x%1 == 0:\n",
    "    print(\"Es cuadrado perfecto\")\n",
    "else:\n",
    "    print(\"No es cuadrado perfecto\")"
   ]
  },
  {
   "cell_type": "code",
   "execution_count": 11,
   "id": "abfa20b2",
   "metadata": {},
   "outputs": [
    {
     "name": "stdout",
     "output_type": "stream",
     "text": [
      "Introduce el año:1908\n",
      "el año es bisiesto\n"
     ]
    }
   ],
   "source": [
    "año = int(input(\"Introduce el año:\"))\n",
    "\n",
    "if año % 400 == 0:\n",
    "    print(\"el año es bisiesto\")\n",
    "elif año % 100 == 0:\n",
    "    print(\"el año no es bisiesto\")\n",
    "elif año % 4 == 0:\n",
    "    print(\"el año es bisiesto\")\n",
    "else:\n",
    "    print(\"no es bisiesto\")\n"
   ]
  },
  {
   "cell_type": "markdown",
   "id": "11ff0474",
   "metadata": {},
   "source": [
    "# Ejercicio seis"
   ]
  },
  {
   "cell_type": "code",
   "execution_count": 13,
   "id": "883091e4",
   "metadata": {},
   "outputs": [
    {
     "name": "stdout",
     "output_type": "stream",
     "text": [
      "Introduce la Casilla (ej: A1): A2\n",
      "Blanco\n"
     ]
    }
   ],
   "source": [
    "entrada = input('Introduce la Casilla (ej: A1): ')\n",
    "letras = {'A':1,'B':2,'C':3,'D':4,'E':5,'F':6,'G':7,'H':8}\n",
    "letra = entrada[0]\n",
    "numero1 = int(entrada[1])\n",
    "numero2 = letras[letra]\n",
    "if (numero1+numero2)%2 == 0:\n",
    "    print('Negro')\n",
    "else:\n",
    "    print('Blanco')"
   ]
  },
  {
   "cell_type": "code",
   "execution_count": null,
   "id": "4e8166c2",
   "metadata": {},
   "outputs": [],
   "source": []
  },
  {
   "cell_type": "code",
   "execution_count": null,
   "id": "71148f60",
   "metadata": {},
   "outputs": [],
   "source": []
  },
  {
   "cell_type": "code",
   "execution_count": null,
   "id": "8aba6a23",
   "metadata": {},
   "outputs": [],
   "source": []
  },
  {
   "cell_type": "code",
   "execution_count": null,
   "id": "3beefa98",
   "metadata": {},
   "outputs": [],
   "source": []
  },
  {
   "cell_type": "code",
   "execution_count": null,
   "id": "e3bf68de",
   "metadata": {},
   "outputs": [],
   "source": []
  },
  {
   "cell_type": "code",
   "execution_count": null,
   "id": "8c57a48e",
   "metadata": {},
   "outputs": [],
   "source": []
  },
  {
   "cell_type": "code",
   "execution_count": null,
   "id": "00e97c3b",
   "metadata": {},
   "outputs": [],
   "source": []
  },
  {
   "cell_type": "code",
   "execution_count": null,
   "id": "c16c590e",
   "metadata": {},
   "outputs": [],
   "source": []
  },
  {
   "cell_type": "code",
   "execution_count": null,
   "id": "06191fc5",
   "metadata": {},
   "outputs": [],
   "source": []
  },
  {
   "cell_type": "code",
   "execution_count": null,
   "id": "2414da74",
   "metadata": {},
   "outputs": [],
   "source": []
  },
  {
   "cell_type": "code",
   "execution_count": null,
   "id": "4445db9c",
   "metadata": {},
   "outputs": [],
   "source": []
  },
  {
   "cell_type": "code",
   "execution_count": null,
   "id": "62dda43d",
   "metadata": {},
   "outputs": [],
   "source": []
  },
  {
   "cell_type": "code",
   "execution_count": null,
   "id": "f3c28ac6",
   "metadata": {},
   "outputs": [],
   "source": []
  }
 ],
 "metadata": {
  "kernelspec": {
   "display_name": "Python 3",
   "language": "python",
   "name": "python3"
  },
  "language_info": {
   "codemirror_mode": {
    "name": "ipython",
    "version": 3
   },
   "file_extension": ".py",
   "mimetype": "text/x-python",
   "name": "python",
   "nbconvert_exporter": "python",
   "pygments_lexer": "ipython3",
   "version": "3.8.8"
  }
 },
 "nbformat": 4,
 "nbformat_minor": 5
}
