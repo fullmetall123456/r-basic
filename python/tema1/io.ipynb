{
 "cells": [
  {
   "cell_type": "markdown",
   "id": "e97ea3c8",
   "metadata": {},
   "source": [
    "# Entrada y salida de datos "
   ]
  },
  {
   "cell_type": "code",
   "execution_count": 1,
   "id": "b79fce11",
   "metadata": {},
   "outputs": [
    {
     "name": "stdout",
     "output_type": "stream",
     "text": [
      "Hola me llamo pablo ivan\n"
     ]
    }
   ],
   "source": [
    "print(\"Hola me llamo pablo ivan\")"
   ]
  },
  {
   "cell_type": "code",
   "execution_count": 12,
   "id": "df519929",
   "metadata": {},
   "outputs": [
    {
     "name": "stdout",
     "output_type": "stream",
     "text": [
      "5\n",
      "El valor de x es:85\n"
     ]
    }
   ],
   "source": [
    "x = 85\n",
    "print(5)\n",
    "print(\"El valor de x es:\" + str(x))"
   ]
  },
  {
   "cell_type": "code",
   "execution_count": 2,
   "id": "deadcaae-9951-4c2c-8598-ce5522cc442a",
   "metadata": {},
   "outputs": [
    {
     "name": "stdin",
     "output_type": "stream",
     "text": [
      "Introduce el texto: ivan\n"
     ]
    }
   ],
   "source": [
    "texto = input('Introduce el texto:')"
   ]
  },
  {
   "cell_type": "code",
   "execution_count": 3,
   "id": "3d8e4708-c69f-4bba-9c25-e16a7f32f1f0",
   "metadata": {},
   "outputs": [
    {
     "data": {
      "text/plain": [
       "'ivan'"
      ]
     },
     "execution_count": 3,
     "metadata": {},
     "output_type": "execute_result"
    }
   ],
   "source": [
    "texto\n"
   ]
  },
  {
   "cell_type": "code",
   "execution_count": 4,
   "id": "4f0860fe-417a-4042-bcdc-0f8bba73f54f",
   "metadata": {},
   "outputs": [
    {
     "name": "stdin",
     "output_type": "stream",
     "text": [
      "Introduce un número: 2\n"
     ]
    }
   ],
   "source": [
    "número = int(input(\"Introduce un número:\"))"
   ]
  },
  {
   "cell_type": "code",
   "execution_count": 5,
   "id": "0c34b14e-af4c-4556-aca6-6e63d8132fe5",
   "metadata": {},
   "outputs": [
    {
     "data": {
      "text/plain": [
       "2"
      ]
     },
     "execution_count": 5,
     "metadata": {},
     "output_type": "execute_result"
    }
   ],
   "source": [
    "número"
   ]
  },
  {
   "cell_type": "markdown",
   "id": "60ca6b67",
   "metadata": {},
   "source": [
    "# Operadores de decisión"
   ]
  },
  {
   "cell_type": "code",
   "execution_count": 4,
   "id": "ca2895d8",
   "metadata": {},
   "outputs": [
    {
     "name": "stdout",
     "output_type": "stream",
     "text": [
      "Introduce el número:4\n"
     ]
    }
   ],
   "source": [
    "x = int(input('Introduce el número:'))\n"
   ]
  },
  {
   "cell_type": "code",
   "execution_count": null,
   "id": "98557a80",
   "metadata": {},
   "outputs": [],
   "source": []
  },
  {
   "cell_type": "code",
   "execution_count": 6,
   "id": "00dbace3",
   "metadata": {},
   "outputs": [
    {
     "name": "stdout",
     "output_type": "stream",
     "text": [
      "El número no es igual a 5\n"
     ]
    }
   ],
   "source": [
    "if x == 5:\n",
    "    print(\"El número es igual a 5\")\n",
    "else:\n",
    "    print(\"El número no es igual a 5\")"
   ]
  },
  {
   "cell_type": "code",
   "execution_count": 9,
   "id": "8bd28906",
   "metadata": {},
   "outputs": [
    {
     "name": "stdout",
     "output_type": "stream",
     "text": [
      "Escribe un número:8\n",
      "Has escrito un número menor que diez y mayor o igual que 5\n"
     ]
    }
   ],
   "source": [
    "x = int(input(\"Escribe un número:\"))\n",
    "\n",
    "if x < 5:\n",
    "    print('Has escrito un número menor que 5')\n",
    "elif x < 10 :\n",
    "    print('Has escrito un número menor que diez y mayor o igual que 5')\n",
    "else:\n",
    "    print('Has escrito un número mayor que 10')"
   ]
  },
  {
   "cell_type": "code",
   "execution_count": 22,
   "id": "62492a85",
   "metadata": {},
   "outputs": [
    {
     "name": "stdout",
     "output_type": "stream",
     "text": [
      "Escribe un número:9\n",
      "Has escrito un número en el rango de [0,10]\n"
     ]
    }
   ],
   "source": [
    "x = int(input(\"Escribe un número:\"))\n",
    "\n",
    "if x > 0 and x <10:\n",
    "    print(\"Has escrito un número en el rango de [0,10]\")\n",
    "else:\n",
    "    print(\"Has escrito un número que no está en el rango de [0,10]\")"
   ]
  },
  {
   "cell_type": "code",
   "execution_count": null,
   "id": "17614e8c",
   "metadata": {},
   "outputs": [],
   "source": []
  },
  {
   "cell_type": "code",
   "execution_count": 21,
   "id": "a5b8aea1",
   "metadata": {},
   "outputs": [
    {
     "name": "stdout",
     "output_type": "stream",
     "text": [
      "Escribe un número:-60\n",
      "Tú número escrito no se encuentra en el rango [0,10]\n"
     ]
    }
   ],
   "source": [
    "x = int(input(\"Escribe un número:\"))\n",
    "\n",
    "if x < 0 or x > 10:\n",
    "    print(\"Tú número escrito no se encuentra en el rango [0,10]\")"
   ]
  },
  {
   "cell_type": "markdown",
   "id": "80e1f2d4",
   "metadata": {},
   "source": [
    "# Funciones matemáticas"
   ]
  },
  {
   "cell_type": "code",
   "execution_count": 2,
   "id": "2a7513dd",
   "metadata": {},
   "outputs": [],
   "source": [
    "import math"
   ]
  },
  {
   "cell_type": "code",
   "execution_count": 4,
   "id": "e53dc9c7",
   "metadata": {},
   "outputs": [
    {
     "data": {
      "text/plain": [
       "20.085536923187668"
      ]
     },
     "execution_count": 4,
     "metadata": {},
     "output_type": "execute_result"
    }
   ],
   "source": [
    "math.exp(3)"
   ]
  },
  {
   "cell_type": "code",
   "execution_count": 6,
   "id": "9a118d47",
   "metadata": {},
   "outputs": [
    {
     "data": {
      "text/plain": [
       "20.085536923187664"
      ]
     },
     "execution_count": 6,
     "metadata": {},
     "output_type": "execute_result"
    }
   ],
   "source": [
    "math.pow(math.e, 3)"
   ]
  },
  {
   "cell_type": "code",
   "execution_count": 8,
   "id": "77a22cd7",
   "metadata": {},
   "outputs": [
    {
     "data": {
      "text/plain": [
       "1.718281828459045"
      ]
     },
     "execution_count": 8,
     "metadata": {},
     "output_type": "execute_result"
    }
   ],
   "source": [
    "math.expm1(1)"
   ]
  },
  {
   "cell_type": "code",
   "execution_count": 9,
   "id": "fbf0c090",
   "metadata": {},
   "outputs": [
    {
     "data": {
      "text/plain": [
       "1.0000050000069649e-05"
      ]
     },
     "execution_count": 9,
     "metadata": {},
     "output_type": "execute_result"
    }
   ],
   "source": [
    "math.exp(1e-05)-1"
   ]
  },
  {
   "cell_type": "code",
   "execution_count": 10,
   "id": "37e47a60",
   "metadata": {},
   "outputs": [
    {
     "data": {
      "text/plain": [
       "1.0000050000166667e-05"
      ]
     },
     "execution_count": 10,
     "metadata": {},
     "output_type": "execute_result"
    }
   ],
   "source": [
    "math.expm1(1e-05)"
   ]
  },
  {
   "cell_type": "code",
   "execution_count": 11,
   "id": "57b2edc0",
   "metadata": {},
   "outputs": [
    {
     "data": {
      "text/plain": [
       "2.4849066497880004"
      ]
     },
     "execution_count": 11,
     "metadata": {},
     "output_type": "execute_result"
    }
   ],
   "source": [
    "#Si no se especifica la base devuelve el logaritmo niperiano     \n",
    "math.log(12)"
   ]
  },
  {
   "cell_type": "code",
   "execution_count": 12,
   "id": "1bc8ca07",
   "metadata": {},
   "outputs": [
    {
     "data": {
      "text/plain": [
       "3.5849625007211565"
      ]
     },
     "execution_count": 12,
     "metadata": {},
     "output_type": "execute_result"
    }
   ],
   "source": [
    "#logaritmo de 12 en base 2\n",
    "math.log(12, 2)"
   ]
  },
  {
   "cell_type": "code",
   "execution_count": 13,
   "id": "fa2e7509",
   "metadata": {},
   "outputs": [
    {
     "data": {
      "text/plain": [
       "9.99995000033333e-06"
      ]
     },
     "execution_count": 13,
     "metadata": {},
     "output_type": "execute_result"
    }
   ],
   "source": [
    "math.log1p(1e-5)"
   ]
  },
  {
   "cell_type": "code",
   "execution_count": 15,
   "id": "5fbc8937",
   "metadata": {},
   "outputs": [
    {
     "data": {
      "text/plain": [
       "1.2246467991473532e-16"
      ]
     },
     "execution_count": 15,
     "metadata": {},
     "output_type": "execute_result"
    }
   ],
   "source": [
    "math.sin(math.pi)"
   ]
  },
  {
   "cell_type": "code",
   "execution_count": 16,
   "id": "758837f1",
   "metadata": {},
   "outputs": [
    {
     "data": {
      "text/plain": [
       "-1.0"
      ]
     },
     "execution_count": 16,
     "metadata": {},
     "output_type": "execute_result"
    }
   ],
   "source": [
    "math.cos(math.pi)"
   ]
  },
  {
   "cell_type": "code",
   "execution_count": 17,
   "id": "3490b79c",
   "metadata": {},
   "outputs": [
    {
     "data": {
      "text/plain": [
       "1.633123935319537e+16"
      ]
     },
     "execution_count": 17,
     "metadata": {},
     "output_type": "execute_result"
    }
   ],
   "source": [
    "math.tan(math.pi/2)"
   ]
  },
  {
   "cell_type": "code",
   "execution_count": 19,
   "id": "5b25161d",
   "metadata": {},
   "outputs": [
    {
     "data": {
      "text/plain": [
       "1.5707963267948966"
      ]
     },
     "execution_count": 19,
     "metadata": {},
     "output_type": "execute_result"
    }
   ],
   "source": [
    "math.asin(1)"
   ]
  },
  {
   "cell_type": "code",
   "execution_count": 20,
   "id": "cb7ca9be",
   "metadata": {},
   "outputs": [
    {
     "data": {
      "text/plain": [
       "0.0"
      ]
     },
     "execution_count": 20,
     "metadata": {},
     "output_type": "execute_result"
    }
   ],
   "source": [
    "math.acos(1)"
   ]
  },
  {
   "cell_type": "code",
   "execution_count": 21,
   "id": "0ec1d02d",
   "metadata": {},
   "outputs": [
    {
     "data": {
      "text/plain": [
       "0.7853981633974483"
      ]
     },
     "execution_count": 21,
     "metadata": {},
     "output_type": "execute_result"
    }
   ],
   "source": [
    "math.atan(1)"
   ]
  },
  {
   "cell_type": "code",
   "execution_count": 22,
   "id": "94a079b3",
   "metadata": {},
   "outputs": [
    {
     "data": {
      "text/plain": [
       "45.0"
      ]
     },
     "execution_count": 22,
     "metadata": {},
     "output_type": "execute_result"
    }
   ],
   "source": [
    "math.degrees(0.7853981633974483)"
   ]
  },
  {
   "cell_type": "code",
   "execution_count": 23,
   "id": "8ce3ec6f",
   "metadata": {},
   "outputs": [
    {
     "data": {
      "text/plain": [
       "0.7853981633974483"
      ]
     },
     "execution_count": 23,
     "metadata": {},
     "output_type": "execute_result"
    }
   ],
   "source": [
    "math.radians(45)"
   ]
  },
  {
   "cell_type": "code",
   "execution_count": 24,
   "id": "b1432709",
   "metadata": {},
   "outputs": [
    {
     "data": {
      "text/plain": [
       "0.5000000000000001"
      ]
     },
     "execution_count": 24,
     "metadata": {},
     "output_type": "execute_result"
    }
   ],
   "source": [
    "math.cos(math.radians(60))"
   ]
  },
  {
   "cell_type": "code",
   "execution_count": 25,
   "id": "37f82183",
   "metadata": {},
   "outputs": [
    {
     "data": {
      "text/plain": [
       "5.0"
      ]
     },
     "execution_count": 25,
     "metadata": {},
     "output_type": "execute_result"
    }
   ],
   "source": [
    "#math.sqrt(3**2+4**2)\n",
    "math.hypot(3, 4)\n"
   ]
  },
  {
   "cell_type": "code",
   "execution_count": 26,
   "id": "3bb223be",
   "metadata": {},
   "outputs": [
    {
     "data": {
      "text/plain": [
       "5.0"
      ]
     },
     "execution_count": 26,
     "metadata": {},
     "output_type": "execute_result"
    }
   ],
   "source": [
    "math.sqrt(3**2+4**2)"
   ]
  },
  {
   "cell_type": "code",
   "execution_count": 27,
   "id": "7c854692",
   "metadata": {},
   "outputs": [
    {
     "data": {
      "text/plain": [
       "0.9272952180016122"
      ]
     },
     "execution_count": 27,
     "metadata": {},
     "output_type": "execute_result"
    }
   ],
   "source": [
    "math.atan2(4,3)"
   ]
  },
  {
   "cell_type": "code",
   "execution_count": 28,
   "id": "c2f41245",
   "metadata": {},
   "outputs": [
    {
     "data": {
      "text/plain": [
       "53.13010235415598"
      ]
     },
     "execution_count": 28,
     "metadata": {},
     "output_type": "execute_result"
    }
   ],
   "source": [
    "math.degrees(0.9272952180016122)"
   ]
  },
  {
   "cell_type": "code",
   "execution_count": 29,
   "id": "813dbb70",
   "metadata": {},
   "outputs": [
    {
     "data": {
      "text/plain": [
       "0.9999911238536323"
      ]
     },
     "execution_count": 29,
     "metadata": {},
     "output_type": "execute_result"
    }
   ],
   "source": [
    "math.erf(math.pi)"
   ]
  },
  {
   "cell_type": "code",
   "execution_count": 30,
   "id": "65a9bc10",
   "metadata": {},
   "outputs": [
    {
     "data": {
      "text/plain": [
       "120"
      ]
     },
     "execution_count": 30,
     "metadata": {},
     "output_type": "execute_result"
    }
   ],
   "source": [
    "math.factorial(5)"
   ]
  },
  {
   "cell_type": "code",
   "execution_count": 31,
   "id": "9c3a2cbf",
   "metadata": {},
   "outputs": [
    {
     "data": {
      "text/plain": [
       "120.0"
      ]
     },
     "execution_count": 31,
     "metadata": {},
     "output_type": "execute_result"
    }
   ],
   "source": [
    "math.gamma(6)"
   ]
  }
 ],
 "metadata": {
  "kernelspec": {
   "display_name": "Python 3",
   "language": "python",
   "name": "python3"
  },
  "language_info": {
   "codemirror_mode": {
    "name": "ipython",
    "version": 3
   },
   "file_extension": ".py",
   "mimetype": "text/x-python",
   "name": "python",
   "nbconvert_exporter": "python",
   "pygments_lexer": "ipython3",
   "version": "3.8.8"
  }
 },
 "nbformat": 4,
 "nbformat_minor": 5
}
